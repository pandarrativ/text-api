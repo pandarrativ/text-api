{
 "cells": [
  {
   "cell_type": "code",
   "execution_count": 1,
   "id": "55993228-ef08-4d40-af45-6206a51469a5",
   "metadata": {
    "tags": []
   },
   "outputs": [],
   "source": [
    "# install openai 1.\n",
    "#!pip install openai==1.14.3"
   ]
  },
  {
   "cell_type": "code",
   "execution_count": 2,
   "id": "f5808e5a-4ac6-4506-8a49-12418c437aad",
   "metadata": {
    "tags": []
   },
   "outputs": [],
   "source": [
    "import openai\n",
    "import json\n",
    "import ast\n",
    "import os"
   ]
  },
  {
   "cell_type": "code",
   "execution_count": 4,
   "id": "4db2b5b4-657b-4093-9270-dcd0a6cbba4a",
   "metadata": {
    "tags": []
   },
   "outputs": [],
   "source": [
    "OPENAI_API_KEY=\"\" #Please add\n",
    "OPENAI_API_VERSION = \"2024-02-15-preview\"\n",
    "OPENAI_API_ENDPOINT=\"\" #Please add"
   ]
  },
  {
   "cell_type": "markdown",
   "id": "62188e06-b31d-4d28-953f-743d9081e2a1",
   "metadata": {
    "tags": []
   },
   "source": [
    "## create an assistant"
   ]
  },
  {
   "cell_type": "code",
   "execution_count": 5,
   "id": "fc7e5b88-d91f-455b-b88b-2212d0d64173",
   "metadata": {
    "tags": []
   },
   "outputs": [],
   "source": [
    "from openai import AzureOpenAI\n",
    "    \n",
    "client = AzureOpenAI(\n",
    "    api_key=OPENAI_API_KEY,  \n",
    "    api_version=OPENAI_API_VERSION,\n",
    "    azure_endpoint = OPENAI_API_ENDPOINT\n",
    "    )\n",
    "\n",
    "# Create an assistant\n",
    "assistant = client.beta.assistants.create(\n",
    "    name=\"Data Visualization\",\n",
    "    instructions=f\"You are a helpful AI assistant who makes interesting visualizations based on data.\" \n",
    "    f\"You have access to a sandboxed environment for writing and testing code.\"\n",
    "    f\"When you are asked to create a visualization you should follow these steps:\"\n",
    "    f\"1. Write the code.\"\n",
    "    f\"2. Anytime you write new code display a preview of the code to show your work.\"\n",
    "    f\"3. Run the code to confirm that it runs.\"\n",
    "    f\"4. If the code is successful display the visualization.\"\n",
    "    f\"5. If the code is unsuccessful display the error message and try to revise the code and rerun going through the steps from above again.\",\n",
    "    tools=[{\"type\": \"code_interpreter\"}],\n",
    "    model=\"gpt-35-turbo\" #You must replace this value with the deployment name for your model.\n",
    ")"
   ]
  },
  {
   "cell_type": "code",
   "execution_count": 6,
   "id": "aa7815c2-cd62-4b4e-9cef-be93ccfed416",
   "metadata": {
    "tags": []
   },
   "outputs": [
    {
     "name": "stdout",
     "output_type": "stream",
     "text": [
      "{\n",
      "  \"id\": \"asst_w7IKcuck8U145iVW3U4b6qUx\",\n",
      "  \"created_at\": 1711749835,\n",
      "  \"description\": null,\n",
      "  \"file_ids\": [],\n",
      "  \"instructions\": \"You are a helpful AI assistant who makes interesting visualizations based on data.You have access to a sandboxed environment for writing and testing code.When you are asked to create a visualization you should follow these steps:1. Write the code.2. Anytime you write new code display a preview of the code to show your work.3. Run the code to confirm that it runs.4. If the code is successful display the visualization.5. If the code is unsuccessful display the error message and try to revise the code and rerun going through the steps from above again.\",\n",
      "  \"metadata\": {},\n",
      "  \"model\": \"gpt-35-turbo\",\n",
      "  \"name\": \"Data Visualization\",\n",
      "  \"object\": \"assistant\",\n",
      "  \"tools\": [\n",
      "    {\n",
      "      \"type\": \"code_interpreter\"\n",
      "    }\n",
      "  ]\n",
      "}\n"
     ]
    }
   ],
   "source": [
    "print(assistant.model_dump_json(indent=2))"
   ]
  },
  {
   "cell_type": "markdown",
   "id": "879157db-2002-4baf-a3ad-5082ba78e3e5",
   "metadata": {},
   "source": [
    "## create a thread"
   ]
  },
  {
   "cell_type": "code",
   "execution_count": 9,
   "id": "b3f6325a-0122-4967-92bf-12c1b94773bb",
   "metadata": {
    "tags": []
   },
   "outputs": [
    {
     "name": "stdout",
     "output_type": "stream",
     "text": [
      "Thread(id='thread_ZhpH3VG9Zvvt4VIqIftWAzLu', created_at=1711749893, metadata={}, object='thread')\n"
     ]
    }
   ],
   "source": [
    "\n",
    "thread = client.beta.threads.create()\n",
    "print(thread)"
   ]
  },
  {
   "cell_type": "code",
   "execution_count": 11,
   "id": "242d237d-9f6f-4056-a2ec-fb3663af088b",
   "metadata": {
    "tags": []
   },
   "outputs": [],
   "source": [
    "# Add a user question to the thread\n",
    "message = client.beta.threads.messages.create(\n",
    "    thread_id=thread.id,\n",
    "    role=\"user\",\n",
    "    content=\"Create a visualization of a sinewave\"\n",
    ")"
   ]
  },
  {
   "cell_type": "code",
   "execution_count": 12,
   "id": "e1d2d8ca-7831-4a82-8948-11e5084d2684",
   "metadata": {
    "tags": []
   },
   "outputs": [],
   "source": [
    "# Add a user question to the thread\n",
    "message = client.beta.threads.messages.create(\n",
    "    thread_id=thread.id,\n",
    "    role=\"user\",\n",
    "    content=\"Create a visualization of a sinewave\"\n",
    ")"
   ]
  },
  {
   "cell_type": "code",
   "execution_count": 14,
   "id": "bc47b441-a60e-4182-acc3-369f3626fd94",
   "metadata": {
    "tags": []
   },
   "outputs": [
    {
     "name": "stdout",
     "output_type": "stream",
     "text": [
      "{\n",
      "  \"data\": [\n",
      "    {\n",
      "      \"id\": \"msg_4dTMWXFwShpELj3wNOMJp5kS\",\n",
      "      \"assistant_id\": null,\n",
      "      \"completed_at\": null,\n",
      "      \"content\": [\n",
      "        {\n",
      "          \"text\": {\n",
      "            \"annotations\": [],\n",
      "            \"value\": \"Create a visualization of a sinewave\"\n",
      "          },\n",
      "          \"type\": \"text\"\n",
      "        }\n",
      "      ],\n",
      "      \"created_at\": 1711749911,\n",
      "      \"file_ids\": [],\n",
      "      \"incomplete_at\": null,\n",
      "      \"incomplete_details\": null,\n",
      "      \"metadata\": {},\n",
      "      \"object\": \"thread.message\",\n",
      "      \"role\": \"user\",\n",
      "      \"run_id\": null,\n",
      "      \"status\": null,\n",
      "      \"thread_id\": \"thread_ZhpH3VG9Zvvt4VIqIftWAzLu\"\n",
      "    },\n",
      "    {\n",
      "      \"id\": \"msg_yljrQOxBg5RELK0OVYCrewlQ\",\n",
      "      \"assistant_id\": null,\n",
      "      \"completed_at\": null,\n",
      "      \"content\": [\n",
      "        {\n",
      "          \"text\": {\n",
      "            \"annotations\": [],\n",
      "            \"value\": \"Create a visualization of a sinewave\"\n",
      "          },\n",
      "          \"type\": \"text\"\n",
      "        }\n",
      "      ],\n",
      "      \"created_at\": 1711749895,\n",
      "      \"file_ids\": [],\n",
      "      \"incomplete_at\": null,\n",
      "      \"incomplete_details\": null,\n",
      "      \"metadata\": {},\n",
      "      \"object\": \"thread.message\",\n",
      "      \"role\": \"user\",\n",
      "      \"run_id\": null,\n",
      "      \"status\": null,\n",
      "      \"thread_id\": \"thread_ZhpH3VG9Zvvt4VIqIftWAzLu\"\n",
      "    },\n",
      "    {\n",
      "      \"id\": \"msg_ltPJjiwrnAI6bPz45Qk4Mmvf\",\n",
      "      \"assistant_id\": null,\n",
      "      \"completed_at\": null,\n",
      "      \"content\": [\n",
      "        {\n",
      "          \"text\": {\n",
      "            \"annotations\": [],\n",
      "            \"value\": \"Create a visualization of a sinewave\"\n",
      "          },\n",
      "          \"type\": \"text\"\n",
      "        }\n",
      "      ],\n",
      "      \"created_at\": 1711749893,\n",
      "      \"file_ids\": [],\n",
      "      \"incomplete_at\": null,\n",
      "      \"incomplete_details\": null,\n",
      "      \"metadata\": {},\n",
      "      \"object\": \"thread.message\",\n",
      "      \"role\": \"user\",\n",
      "      \"run_id\": null,\n",
      "      \"status\": null,\n",
      "      \"thread_id\": \"thread_ZhpH3VG9Zvvt4VIqIftWAzLu\"\n",
      "    }\n",
      "  ],\n",
      "  \"object\": \"list\",\n",
      "  \"first_id\": \"msg_4dTMWXFwShpELj3wNOMJp5kS\",\n",
      "  \"last_id\": \"msg_ltPJjiwrnAI6bPz45Qk4Mmvf\",\n",
      "  \"has_more\": false\n",
      "}\n"
     ]
    }
   ],
   "source": [
    "thread_messages = client.beta.threads.messages.list(thread.id)\n",
    "print(thread_messages.model_dump_json(indent=2))"
   ]
  },
  {
   "cell_type": "code",
   "execution_count": 15,
   "id": "94766dd7-650d-414b-a84c-502b16aed04a",
   "metadata": {
    "tags": []
   },
   "outputs": [],
   "source": [
    "run = client.beta.threads.runs.create(\n",
    "  thread_id=thread.id,\n",
    "  assistant_id=assistant.id,\n",
    "  #instructions=\"New instructions\" #You can optionally provide new instructions but these will override the default instructions\n",
    ")"
   ]
  },
  {
   "cell_type": "code",
   "execution_count": 16,
   "id": "1acb6946-a910-42df-b697-466dfa1d74b4",
   "metadata": {
    "tags": []
   },
   "outputs": [
    {
     "name": "stdout",
     "output_type": "stream",
     "text": [
      "completed\n"
     ]
    }
   ],
   "source": [
    "# Retrieve the status of the run\n",
    "run = client.beta.threads.runs.retrieve(\n",
    "  thread_id=thread.id,\n",
    "  run_id=run.id\n",
    ")\n",
    "\n",
    "status = run.status\n",
    "print(status)"
   ]
  },
  {
   "cell_type": "code",
   "execution_count": 17,
   "id": "9d6c1904-a6d5-4592-8b33-a616ce458ef8",
   "metadata": {
    "tags": []
   },
   "outputs": [
    {
     "name": "stdout",
     "output_type": "stream",
     "text": [
      "Status: completed\n",
      "Elapsed time: 0 minutes 0 seconds\n",
      "{\n",
      "  \"data\": [\n",
      "    {\n",
      "      \"id\": \"msg_66cSs8GMtGy1VpwRmOSwJXNQ\",\n",
      "      \"assistant_id\": \"asst_w7IKcuck8U145iVW3U4b6qUx\",\n",
      "      \"completed_at\": null,\n",
      "      \"content\": [\n",
      "        {\n",
      "          \"image_file\": {\n",
      "            \"file_id\": \"assistant-TYCFXVcm27aHGlYIn7qd7dLt\"\n",
      "          },\n",
      "          \"type\": \"image_file\"\n",
      "        },\n",
      "        {\n",
      "          \"text\": {\n",
      "            \"annotations\": [],\n",
      "            \"value\": \"Here is the visualization of a sine wave. The x-axis represents the value of x and the y-axis represents the value of sin(x). The wave oscillates between -1 and 1.\"\n",
      "          },\n",
      "          \"type\": \"text\"\n",
      "        }\n",
      "      ],\n",
      "      \"created_at\": 1711749958,\n",
      "      \"file_ids\": [],\n",
      "      \"incomplete_at\": null,\n",
      "      \"incomplete_details\": null,\n",
      "      \"metadata\": {},\n",
      "      \"object\": \"thread.message\",\n",
      "      \"role\": \"assistant\",\n",
      "      \"run_id\": \"run_mn4mW7kpS7W6oYO9HRPMLUaA\",\n",
      "      \"status\": null,\n",
      "      \"thread_id\": \"thread_ZhpH3VG9Zvvt4VIqIftWAzLu\"\n",
      "    },\n",
      "    {\n",
      "      \"id\": \"msg_4dTMWXFwShpELj3wNOMJp5kS\",\n",
      "      \"assistant_id\": null,\n",
      "      \"completed_at\": null,\n",
      "      \"content\": [\n",
      "        {\n",
      "          \"text\": {\n",
      "            \"annotations\": [],\n",
      "            \"value\": \"Create a visualization of a sinewave\"\n",
      "          },\n",
      "          \"type\": \"text\"\n",
      "        }\n",
      "      ],\n",
      "      \"created_at\": 1711749911,\n",
      "      \"file_ids\": [],\n",
      "      \"incomplete_at\": null,\n",
      "      \"incomplete_details\": null,\n",
      "      \"metadata\": {},\n",
      "      \"object\": \"thread.message\",\n",
      "      \"role\": \"user\",\n",
      "      \"run_id\": null,\n",
      "      \"status\": null,\n",
      "      \"thread_id\": \"thread_ZhpH3VG9Zvvt4VIqIftWAzLu\"\n",
      "    },\n",
      "    {\n",
      "      \"id\": \"msg_yljrQOxBg5RELK0OVYCrewlQ\",\n",
      "      \"assistant_id\": null,\n",
      "      \"completed_at\": null,\n",
      "      \"content\": [\n",
      "        {\n",
      "          \"text\": {\n",
      "            \"annotations\": [],\n",
      "            \"value\": \"Create a visualization of a sinewave\"\n",
      "          },\n",
      "          \"type\": \"text\"\n",
      "        }\n",
      "      ],\n",
      "      \"created_at\": 1711749895,\n",
      "      \"file_ids\": [],\n",
      "      \"incomplete_at\": null,\n",
      "      \"incomplete_details\": null,\n",
      "      \"metadata\": {},\n",
      "      \"object\": \"thread.message\",\n",
      "      \"role\": \"user\",\n",
      "      \"run_id\": null,\n",
      "      \"status\": null,\n",
      "      \"thread_id\": \"thread_ZhpH3VG9Zvvt4VIqIftWAzLu\"\n",
      "    },\n",
      "    {\n",
      "      \"id\": \"msg_ltPJjiwrnAI6bPz45Qk4Mmvf\",\n",
      "      \"assistant_id\": null,\n",
      "      \"completed_at\": null,\n",
      "      \"content\": [\n",
      "        {\n",
      "          \"text\": {\n",
      "            \"annotations\": [],\n",
      "            \"value\": \"Create a visualization of a sinewave\"\n",
      "          },\n",
      "          \"type\": \"text\"\n",
      "        }\n",
      "      ],\n",
      "      \"created_at\": 1711749893,\n",
      "      \"file_ids\": [],\n",
      "      \"incomplete_at\": null,\n",
      "      \"incomplete_details\": null,\n",
      "      \"metadata\": {},\n",
      "      \"object\": \"thread.message\",\n",
      "      \"role\": \"user\",\n",
      "      \"run_id\": null,\n",
      "      \"status\": null,\n",
      "      \"thread_id\": \"thread_ZhpH3VG9Zvvt4VIqIftWAzLu\"\n",
      "    }\n",
      "  ],\n",
      "  \"object\": \"list\",\n",
      "  \"first_id\": \"msg_66cSs8GMtGy1VpwRmOSwJXNQ\",\n",
      "  \"last_id\": \"msg_ltPJjiwrnAI6bPz45Qk4Mmvf\",\n",
      "  \"has_more\": false\n",
      "}\n"
     ]
    }
   ],
   "source": [
    "import time\n",
    "from IPython.display import clear_output\n",
    "\n",
    "start_time = time.time()\n",
    "\n",
    "status = run.status\n",
    "\n",
    "while status not in [\"completed\", \"cancelled\", \"expired\", \"failed\"]:\n",
    "    time.sleep(5)\n",
    "    run = client.beta.threads.runs.retrieve(thread_id=thread.id,run_id=run.id)\n",
    "    print(\"Elapsed time: {} minutes {} seconds\".format(int((time.time() - start_time) // 60), int((time.time() - start_time) % 60)))\n",
    "    status = run.status\n",
    "    print(f'Status: {status}')\n",
    "    clear_output(wait=True)\n",
    "\n",
    "messages = client.beta.threads.messages.list(\n",
    "  thread_id=thread.id\n",
    ") \n",
    "\n",
    "print(f'Status: {status}')\n",
    "print(\"Elapsed time: {} minutes {} seconds\".format(int((time.time() - start_time) // 60), int((time.time() - start_time) % 60)))\n",
    "print(messages.model_dump_json(indent=2))"
   ]
  },
  {
   "cell_type": "code",
   "execution_count": null,
   "id": "7d20810e-eabd-4bae-b0a5-5caf34f286bc",
   "metadata": {},
   "outputs": [],
   "source": []
  }
 ],
 "metadata": {
  "kernelspec": {
   "display_name": "Python 3 (ipykernel)",
   "language": "python",
   "name": "python3"
  },
  "language_info": {
   "codemirror_mode": {
    "name": "ipython",
    "version": 3
   },
   "file_extension": ".py",
   "mimetype": "text/x-python",
   "name": "python",
   "nbconvert_exporter": "python",
   "pygments_lexer": "ipython3",
   "version": "3.11.5"
  }
 },
 "nbformat": 4,
 "nbformat_minor": 5
}
